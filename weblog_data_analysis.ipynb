{
 "cells": [
  {
   "cell_type": "markdown",
   "metadata": {},
   "source": [
    "# Weblog data Analysis by using pyspark\n",
    "\n",
    "<div style=\"text-align: right\">\n",
    "\n",
    "2018.11.03 / 발제자 임지훈\n",
    "</div>"
   ]
  },
  {
   "cell_type": "code",
   "execution_count": 1,
   "metadata": {},
   "outputs": [
    {
     "data": {
      "text/html": [
       "\n",
       "        <div>\n",
       "            <p><b>SparkContext</b></p>\n",
       "\n",
       "            <p><a href=\"http://ip-172-31-28-162.ap-northeast-2.compute.internal:4041\">Spark UI</a></p>\n",
       "\n",
       "            <dl>\n",
       "              <dt>Version</dt>\n",
       "                <dd><code>v2.3.0</code></dd>\n",
       "              <dt>Master</dt>\n",
       "                <dd><code>local[*]</code></dd>\n",
       "              <dt>AppName</dt>\n",
       "                <dd><code>PySparkShell</code></dd>\n",
       "            </dl>\n",
       "        </div>\n",
       "        "
      ],
      "text/plain": [
       "<SparkContext master=local[*] appName=PySparkShell>"
      ]
     },
     "execution_count": 1,
     "metadata": {},
     "output_type": "execute_result"
    }
   ],
   "source": [
    "sc"
   ]
  },
  {
   "cell_type": "code",
   "execution_count": 2,
   "metadata": {},
   "outputs": [],
   "source": [
    "import collections\n",
    "\n",
    "from pyspark import StorageLevel\n",
    "from pyspark.sql import Row\n",
    "from pyspark.sql import SparkSession\n",
    "from pyspark.sql.functions import *\n",
    "from pyspark.sql import functions\n",
    "from pyspark.sql.types import *\n",
    "from pyspark.sql.window import Window\n",
    "import time\n",
    "from pyspark.sql.functions import udf\n",
    "from pyspark.sql.types import *"
   ]
  },
  {
   "cell_type": "markdown",
   "metadata": {},
   "source": [
    "## 1. 데이터 불러오기"
   ]
  },
  {
   "cell_type": "code",
   "execution_count": 3,
   "metadata": {},
   "outputs": [
    {
     "name": "stdout",
     "output_type": "stream",
     "text": [
      "+----------+--------------------+--------------------+---+\n",
      "|       _c0|                 _c1|                 _c2|_c3|\n",
      "+----------+--------------------+--------------------+---+\n",
      "|10.128.2.1|[29/Nov/2017:06:5...|GET /login.php HT...|200|\n",
      "|10.128.2.1|[29/Nov/2017:06:5...|POST /process.php...|302|\n",
      "|10.128.2.1|[29/Nov/2017:06:5...|GET /home.php HTT...|200|\n",
      "|10.131.2.1|[29/Nov/2017:06:5...|GET /js/vendor/mo...|200|\n",
      "|10.130.2.1|[29/Nov/2017:06:5...|GET /bootstrap-3....|200|\n",
      "|10.130.2.1|[29/Nov/2017:06:5...|GET /profile.php?...|200|\n",
      "|10.128.2.1|[29/Nov/2017:06:5...|GET /js/jquery.mi...|200|\n",
      "|10.131.2.1|[29/Nov/2017:06:5...|GET /js/chart.min...|200|\n",
      "|10.131.2.1|[29/Nov/2017:06:5...|GET /edit.php?nam...|200|\n",
      "|10.131.2.1|[29/Nov/2017:06:5...|GET /logout.php H...|302|\n",
      "|10.131.2.1|[29/Nov/2017:06:5...|GET /login.php HT...|200|\n",
      "|10.130.2.1|[29/Nov/2017:07:0...|GET /login.php HT...|200|\n",
      "|10.130.2.1|[29/Nov/2017:07:0...|GET /login.php HT...|200|\n",
      "|10.130.2.1|[29/Nov/2017:13:3...|      GET / HTTP/1.1|302|\n",
      "|10.130.2.1|[29/Nov/2017:13:3...|GET /login.php HT...|200|\n",
      "|10.129.2.1|[29/Nov/2017:13:3...|POST /process.php...|302|\n",
      "|10.131.0.1|[29/Nov/2017:13:3...|GET /home.php HTT...|200|\n",
      "|10.131.0.1|[29/Nov/2017:13:3...|GET /contestprobl...|200|\n",
      "|10.130.2.1|[29/Nov/2017:13:3...|      GET / HTTP/1.1|302|\n",
      "|10.131.2.1|[29/Nov/2017:13:3...|GET /login.php HT...|200|\n",
      "+----------+--------------------+--------------------+---+\n",
      "only showing top 20 rows\n",
      "\n"
     ]
    }
   ],
   "source": [
    "weblog = spark.read.csv(\"file:///home/ubuntu/18-2Engineering/Week05_181103/resources/webLog.csv\")\n",
    "weblog.show()"
   ]
  },
  {
   "cell_type": "markdown",
   "metadata": {},
   "source": [
    "## 2. column name 생성"
   ]
  },
  {
   "cell_type": "code",
   "execution_count": 4,
   "metadata": {},
   "outputs": [
    {
     "name": "stdout",
     "output_type": "stream",
     "text": [
      "+----------+--------------------+--------------------+------+\n",
      "|        IP|                Time|                 URL|Status|\n",
      "+----------+--------------------+--------------------+------+\n",
      "|10.128.2.1|[29/Nov/2017:06:5...|GET /login.php HT...|   200|\n",
      "|10.128.2.1|[29/Nov/2017:06:5...|POST /process.php...|   302|\n",
      "|10.128.2.1|[29/Nov/2017:06:5...|GET /home.php HTT...|   200|\n",
      "|10.131.2.1|[29/Nov/2017:06:5...|GET /js/vendor/mo...|   200|\n",
      "|10.130.2.1|[29/Nov/2017:06:5...|GET /bootstrap-3....|   200|\n",
      "|10.130.2.1|[29/Nov/2017:06:5...|GET /profile.php?...|   200|\n",
      "|10.128.2.1|[29/Nov/2017:06:5...|GET /js/jquery.mi...|   200|\n",
      "|10.131.2.1|[29/Nov/2017:06:5...|GET /js/chart.min...|   200|\n",
      "|10.131.2.1|[29/Nov/2017:06:5...|GET /edit.php?nam...|   200|\n",
      "|10.131.2.1|[29/Nov/2017:06:5...|GET /logout.php H...|   302|\n",
      "|10.131.2.1|[29/Nov/2017:06:5...|GET /login.php HT...|   200|\n",
      "|10.130.2.1|[29/Nov/2017:07:0...|GET /login.php HT...|   200|\n",
      "|10.130.2.1|[29/Nov/2017:07:0...|GET /login.php HT...|   200|\n",
      "|10.130.2.1|[29/Nov/2017:13:3...|      GET / HTTP/1.1|   302|\n",
      "|10.130.2.1|[29/Nov/2017:13:3...|GET /login.php HT...|   200|\n",
      "|10.129.2.1|[29/Nov/2017:13:3...|POST /process.php...|   302|\n",
      "|10.131.0.1|[29/Nov/2017:13:3...|GET /home.php HTT...|   200|\n",
      "|10.131.0.1|[29/Nov/2017:13:3...|GET /contestprobl...|   200|\n",
      "|10.130.2.1|[29/Nov/2017:13:3...|      GET / HTTP/1.1|   302|\n",
      "|10.131.2.1|[29/Nov/2017:13:3...|GET /login.php HT...|   200|\n",
      "+----------+--------------------+--------------------+------+\n",
      "only showing top 20 rows\n",
      "\n"
     ]
    }
   ],
   "source": [
    "weblog = weblog.selectExpr(\"_c0 as IP\", \"_c1 as Time\", \"_c2 as URL\", \"_c3 as Status\")\n",
    "weblog.show()"
   ]
  },
  {
   "cell_type": "markdown",
   "metadata": {},
   "source": [
    "## 3. dataframe size, IP 종류 개수"
   ]
  },
  {
   "cell_type": "code",
   "execution_count": 5,
   "metadata": {},
   "outputs": [
    {
     "name": "stdout",
     "output_type": "stream",
     "text": [
      "+---------+------------------+\n",
      "|count(IP)|count(DISTINCT IP)|\n",
      "+---------+------------------+\n",
      "|    10787|                 5|\n",
      "+---------+------------------+\n",
      "\n"
     ]
    }
   ],
   "source": [
    "weblog.select(count(\"IP\"), countDistinct(\"IP\")).show()"
   ]
  },
  {
   "cell_type": "markdown",
   "metadata": {},
   "source": [
    "## 4. IP별 count"
   ]
  },
  {
   "cell_type": "code",
   "execution_count": 6,
   "metadata": {
    "scrolled": true
   },
   "outputs": [
    {
     "name": "stdout",
     "output_type": "stream",
     "text": [
      "+----------+-----+\n",
      "|        IP|count|\n",
      "+----------+-----+\n",
      "|10.131.2.1| 1626|\n",
      "|10.128.2.1| 2416|\n",
      "|10.130.2.1| 2493|\n",
      "|10.131.0.1| 2600|\n",
      "|10.129.2.1| 1652|\n",
      "+----------+-----+\n",
      "\n"
     ]
    }
   ],
   "source": [
    "weblog.groupBy('IP').count().show()"
   ]
  },
  {
   "cell_type": "markdown",
   "metadata": {},
   "source": [
    "## 5. Status별 count"
   ]
  },
  {
   "cell_type": "code",
   "execution_count": 7,
   "metadata": {},
   "outputs": [
    {
     "name": "stdout",
     "output_type": "stream",
     "text": [
      "+------+-----+\n",
      "|Status|count|\n",
      "+------+-----+\n",
      "|   200| 8048|\n",
      "|   206|   48|\n",
      "|   302| 1859|\n",
      "|   404|  213|\n",
      "|   304|  619|\n",
      "+------+-----+\n",
      "\n"
     ]
    }
   ],
   "source": [
    "weblog.groupBy('Status').count().show()"
   ]
  },
  {
   "cell_type": "markdown",
   "metadata": {},
   "source": [
    "## Q1. IP별 Status를 살펴보자"
   ]
  },
  {
   "cell_type": "code",
   "execution_count": 8,
   "metadata": {},
   "outputs": [
    {
     "name": "stdout",
     "output_type": "stream",
     "text": [
      "+----------+------+-----+\n",
      "|        IP|Status|count|\n",
      "+----------+------+-----+\n",
      "|10.128.2.1|   200| 1745|\n",
      "|10.128.2.1|   206|   11|\n",
      "|10.128.2.1|   302|  479|\n",
      "|10.128.2.1|   304|  130|\n",
      "|10.128.2.1|   404|   51|\n",
      "|10.129.2.1|   200| 1286|\n",
      "|10.129.2.1|   206|    7|\n",
      "|10.129.2.1|   302|  206|\n",
      "|10.129.2.1|   304|  112|\n",
      "|10.129.2.1|   404|   41|\n",
      "|10.130.2.1|   200| 1861|\n",
      "|10.130.2.1|   206|   12|\n",
      "|10.130.2.1|   302|  444|\n",
      "|10.130.2.1|   304|  137|\n",
      "|10.130.2.1|   404|   39|\n",
      "|10.131.0.1|   200| 1909|\n",
      "|10.131.0.1|   206|   10|\n",
      "|10.131.0.1|   302|  509|\n",
      "|10.131.0.1|   304|  120|\n",
      "|10.131.0.1|   404|   52|\n",
      "+----------+------+-----+\n",
      "only showing top 20 rows\n",
      "\n"
     ]
    }
   ],
   "source": [
    "weblog.sort(asc(\"IP\"), asc(\"Status\")).groupBy(\"IP\", \"Status\").count().show()"
   ]
  },
  {
   "cell_type": "markdown",
   "metadata": {},
   "source": [
    "## Q2. IP별 404 count를 출력해보자"
   ]
  },
  {
   "cell_type": "code",
   "execution_count": 9,
   "metadata": {},
   "outputs": [
    {
     "name": "stdout",
     "output_type": "stream",
     "text": [
      "+----------+-----+\n",
      "|        IP|count|\n",
      "+----------+-----+\n",
      "|10.131.2.1|   30|\n",
      "|10.128.2.1|   51|\n",
      "|10.130.2.1|   39|\n",
      "|10.131.0.1|   52|\n",
      "|10.129.2.1|   41|\n",
      "+----------+-----+\n",
      "\n"
     ]
    }
   ],
   "source": [
    "weblog.where(weblog[\"Status\"]==404).groupBy(\"IP\").count().show()"
   ]
  },
  {
   "cell_type": "markdown",
   "metadata": {},
   "source": [
    "별 의미는 없었다"
   ]
  },
  {
   "cell_type": "markdown",
   "metadata": {},
   "source": [
    "## Q3. 시간대별 404 count를 출력해보자"
   ]
  },
  {
   "cell_type": "markdown",
   "metadata": {},
   "source": [
    "우선 시간대(Hour) column을 만들자"
   ]
  },
  {
   "cell_type": "code",
   "execution_count": 10,
   "metadata": {},
   "outputs": [
    {
     "name": "stdout",
     "output_type": "stream",
     "text": [
      "+----------+--------------------+--------------------+------+----+\n",
      "|        IP|                Time|                 URL|Status|Hour|\n",
      "+----------+--------------------+--------------------+------+----+\n",
      "|10.128.2.1|[29/Nov/2017:06:5...|GET /login.php HT...|   200|  06|\n",
      "|10.128.2.1|[29/Nov/2017:06:5...|POST /process.php...|   302|  06|\n",
      "|10.128.2.1|[29/Nov/2017:06:5...|GET /home.php HTT...|   200|  06|\n",
      "|10.131.2.1|[29/Nov/2017:06:5...|GET /js/vendor/mo...|   200|  06|\n",
      "|10.130.2.1|[29/Nov/2017:06:5...|GET /bootstrap-3....|   200|  06|\n",
      "|10.130.2.1|[29/Nov/2017:06:5...|GET /profile.php?...|   200|  06|\n",
      "|10.128.2.1|[29/Nov/2017:06:5...|GET /js/jquery.mi...|   200|  06|\n",
      "|10.131.2.1|[29/Nov/2017:06:5...|GET /js/chart.min...|   200|  06|\n",
      "|10.131.2.1|[29/Nov/2017:06:5...|GET /edit.php?nam...|   200|  06|\n",
      "|10.131.2.1|[29/Nov/2017:06:5...|GET /logout.php H...|   302|  06|\n",
      "|10.131.2.1|[29/Nov/2017:06:5...|GET /login.php HT...|   200|  06|\n",
      "|10.130.2.1|[29/Nov/2017:07:0...|GET /login.php HT...|   200|  07|\n",
      "|10.130.2.1|[29/Nov/2017:07:0...|GET /login.php HT...|   200|  07|\n",
      "|10.130.2.1|[29/Nov/2017:13:3...|      GET / HTTP/1.1|   302|  13|\n",
      "|10.130.2.1|[29/Nov/2017:13:3...|GET /login.php HT...|   200|  13|\n",
      "|10.129.2.1|[29/Nov/2017:13:3...|POST /process.php...|   302|  13|\n",
      "|10.131.0.1|[29/Nov/2017:13:3...|GET /home.php HTT...|   200|  13|\n",
      "|10.131.0.1|[29/Nov/2017:13:3...|GET /contestprobl...|   200|  13|\n",
      "|10.130.2.1|[29/Nov/2017:13:3...|      GET / HTTP/1.1|   302|  13|\n",
      "|10.131.2.1|[29/Nov/2017:13:3...|GET /login.php HT...|   200|  13|\n",
      "+----------+--------------------+--------------------+------+----+\n",
      "only showing top 20 rows\n",
      "\n"
     ]
    }
   ],
   "source": [
    "def get_hour(Time):\n",
    "    return substring(Time,14,2)\n",
    "\n",
    "hour = udf(get_hour, StringType())\n",
    "weblog = weblog.withColumn(\"Hour\", lit(get_hour(\"Time\")))\n",
    "weblog.show()"
   ]
  },
  {
   "cell_type": "code",
   "execution_count": 11,
   "metadata": {},
   "outputs": [
    {
     "name": "stdout",
     "output_type": "stream",
     "text": [
      "+----+-----+\n",
      "|Hour|count|\n",
      "+----+-----+\n",
      "|  15|   32|\n",
      "|  16|   14|\n",
      "|  06|   14|\n",
      "|  20|   13|\n",
      "|  23|   12|\n",
      "|  08|   12|\n",
      "|  19|   12|\n",
      "|  00|    9|\n",
      "|  10|    9|\n",
      "|  18|    9|\n",
      "|  21|    9|\n",
      "|  14|    8|\n",
      "|  11|    8|\n",
      "|  07|    7|\n",
      "|  12|    6|\n",
      "|  22|    6|\n",
      "|  09|    5|\n",
      "|  13|    5|\n",
      "|  02|    5|\n",
      "|  04|    4|\n",
      "+----+-----+\n",
      "only showing top 20 rows\n",
      "\n"
     ]
    }
   ],
   "source": [
    "weblog.where(weblog[\"Status\"]==404).groupBy(\"Hour\").count().sort(desc(\"count\")).show()"
   ]
  },
  {
   "cell_type": "markdown",
   "metadata": {},
   "source": [
    "별 의미 없었다"
   ]
  },
  {
   "cell_type": "markdown",
   "metadata": {},
   "source": [
    "## Q4. 시간대별 login 횟수를 count해보자"
   ]
  },
  {
   "cell_type": "markdown",
   "metadata": {},
   "source": [
    "우선 URL이 \"login.php\"를 포함하는 경우를 필터링하자"
   ]
  },
  {
   "cell_type": "code",
   "execution_count": 12,
   "metadata": {},
   "outputs": [
    {
     "data": {
      "text/plain": [
       "1761"
      ]
     },
     "execution_count": 12,
     "metadata": {},
     "output_type": "execute_result"
    }
   ],
   "source": [
    "weblog.filter(\"URL like '%login.php%'\").count()"
   ]
  },
  {
   "cell_type": "code",
   "execution_count": 13,
   "metadata": {},
   "outputs": [
    {
     "name": "stdout",
     "output_type": "stream",
     "text": [
      "+----+-----+\n",
      "|Hour|count|\n",
      "+----+-----+\n",
      "|  20|  615|\n",
      "|  15|  105|\n",
      "|  16|   97|\n",
      "|  18|   93|\n",
      "|  17|   92|\n",
      "|  19|   77|\n",
      "|  12|   74|\n",
      "|  14|   73|\n",
      "|  13|   63|\n",
      "|  06|   47|\n",
      "|  08|   44|\n",
      "|  05|   43|\n",
      "|  07|   42|\n",
      "|  09|   38|\n",
      "|  22|   34|\n",
      "|  04|   33|\n",
      "|  23|   29|\n",
      "|  11|   29|\n",
      "|  00|   28|\n",
      "|  10|   27|\n",
      "+----+-----+\n",
      "only showing top 20 rows\n",
      "\n"
     ]
    }
   ],
   "source": [
    "login = weblog.filter(\"URL like '%login.php%'\")\n",
    "login.groupBy(\"Hour\").count().sort(desc(\"count\")).show()"
   ]
  },
  {
   "cell_type": "markdown",
   "metadata": {},
   "source": [
    "드디어 유의미한 결과가 나왔다"
   ]
  },
  {
   "cell_type": "markdown",
   "metadata": {},
   "source": [
    "20시에 압도적으로 로그인을 많이 했다는 것이\n",
    "\n",
    "    1) 특정 날짜의 20시에 많이 했다는 것인지 (ex. 수강신청)\n",
    "\n",
    "    2) 평상시 20시에 원래 그렇게 로그인이 많은 것인지 \n",
    "\n",
    "아직 모른다"
   ]
  },
  {
   "cell_type": "markdown",
   "metadata": {},
   "source": [
    "## Q5. 20시에 login한 데이터들의 date 분포를 살피자\n",
    "### 특정 날짜에 몰렸는지, 고르게 분포하는지"
   ]
  },
  {
   "cell_type": "markdown",
   "metadata": {},
   "source": [
    "Date column을 추가하여 login dataFrame을 새롭게 만들자"
   ]
  },
  {
   "cell_type": "code",
   "execution_count": 14,
   "metadata": {},
   "outputs": [
    {
     "name": "stdout",
     "output_type": "stream",
     "text": [
      "+----------+--------------------+--------------------+------+----+-----------+\n",
      "|        IP|                Time|                 URL|Status|Hour|       Date|\n",
      "+----------+--------------------+--------------------+------+----+-----------+\n",
      "|10.128.2.1|[29/Nov/2017:06:5...|GET /login.php HT...|   200|  06|29/Nov/2017|\n",
      "|10.131.2.1|[29/Nov/2017:06:5...|GET /login.php HT...|   200|  06|29/Nov/2017|\n",
      "|10.130.2.1|[29/Nov/2017:07:0...|GET /login.php HT...|   200|  07|29/Nov/2017|\n",
      "|10.130.2.1|[29/Nov/2017:07:0...|GET /login.php HT...|   200|  07|29/Nov/2017|\n",
      "|10.130.2.1|[29/Nov/2017:13:3...|GET /login.php HT...|   200|  13|29/Nov/2017|\n",
      "|10.131.2.1|[29/Nov/2017:13:3...|GET /login.php HT...|   200|  13|29/Nov/2017|\n",
      "|10.131.2.1|[29/Nov/2017:13:4...|GET /login.php HT...|   200|  13|29/Nov/2017|\n",
      "|10.131.2.1|[29/Nov/2017:13:4...|GET /login.php?va...|   200|  13|29/Nov/2017|\n",
      "|10.129.2.1|[29/Nov/2017:13:5...|GET /login.php HT...|   200|  13|29/Nov/2017|\n",
      "|10.129.2.1|[29/Nov/2017:14:5...|GET /login.php HT...|   200|  14|29/Nov/2017|\n",
      "|10.128.2.1|[29/Nov/2017:15:0...|GET /login.php HT...|   200|  15|29/Nov/2017|\n",
      "|10.131.0.1|[29/Nov/2017:16:2...|GET /login.php HT...|   200|  16|29/Nov/2017|\n",
      "|10.131.0.1|[29/Nov/2017:16:2...|GET /login.php HT...|   200|  16|29/Nov/2017|\n",
      "|10.128.2.1|[29/Nov/2017:16:2...|GET /login.php HT...|   200|  16|29/Nov/2017|\n",
      "|10.131.2.1|[29/Nov/2017:16:2...|GET /login.php HT...|   200|  16|29/Nov/2017|\n",
      "|10.128.2.1|[29/Nov/2017:16:2...|GET /login.php HT...|   200|  16|29/Nov/2017|\n",
      "|10.129.2.1|[29/Nov/2017:16:2...|GET /login.php HT...|   200|  16|29/Nov/2017|\n",
      "|10.131.0.1|[29/Nov/2017:16:2...|GET /login.php HT...|   302|  16|29/Nov/2017|\n",
      "|10.128.2.1|[29/Nov/2017:16:2...|GET /login.php HT...|   302|  16|29/Nov/2017|\n",
      "|10.130.2.1|[29/Nov/2017:16:2...|GET /login.php HT...|   200|  16|29/Nov/2017|\n",
      "+----------+--------------------+--------------------+------+----+-----------+\n",
      "only showing top 20 rows\n",
      "\n"
     ]
    }
   ],
   "source": [
    "def get_date(Time):\n",
    "    return substring(Time,2,11)\n",
    "\n",
    "date = udf(get_date, StringType())\n",
    "login = login.withColumn(\"Date\", lit(get_date(\"Time\")))\n",
    "login.show()"
   ]
  },
  {
   "cell_type": "markdown",
   "metadata": {},
   "source": [
    "위에서 확인했지만, 다시 한 번 20시에 로그인한 횟수를 카운트 해보자"
   ]
  },
  {
   "cell_type": "code",
   "execution_count": 15,
   "metadata": {},
   "outputs": [
    {
     "data": {
      "text/plain": [
       "615"
      ]
     },
     "execution_count": 15,
     "metadata": {},
     "output_type": "execute_result"
    }
   ],
   "source": [
    "login.where(login['Hour']==20).count()"
   ]
  },
  {
   "cell_type": "markdown",
   "metadata": {},
   "source": [
    "로그인 dataFrame의 Date중 중복된 데이터를 제외한 unique한 값을 뽑아보자"
   ]
  },
  {
   "cell_type": "code",
   "execution_count": 16,
   "metadata": {},
   "outputs": [
    {
     "name": "stdout",
     "output_type": "stream",
     "text": [
      "+--------------------+\n",
      "|count(DISTINCT Date)|\n",
      "+--------------------+\n",
      "|                  40|\n",
      "+--------------------+\n",
      "\n"
     ]
    }
   ],
   "source": [
    "login.select(countDistinct(\"Date\")).show()"
   ]
  },
  {
   "cell_type": "markdown",
   "metadata": {},
   "source": [
    "Hour가 20인 경우의 unique한 date 값을 뽑아보자"
   ]
  },
  {
   "cell_type": "code",
   "execution_count": 17,
   "metadata": {},
   "outputs": [
    {
     "name": "stdout",
     "output_type": "stream",
     "text": [
      "+--------------------+\n",
      "|count(DISTINCT Date)|\n",
      "+--------------------+\n",
      "|                  18|\n",
      "+--------------------+\n",
      "\n"
     ]
    }
   ],
   "source": [
    "login.where(login['Hour']=='20').select(countDistinct(\"Date\")).show()"
   ]
  },
  {
   "cell_type": "markdown",
   "metadata": {},
   "source": [
    "실망스럽다. 만약 값이 1, 2처럼 작은 수가 나왔더라면,\n",
    "특정 일의 20시에 로그인이 몰렸다고 볼 수 있었을텐데"
   ]
  },
  {
   "cell_type": "markdown",
   "metadata": {},
   "source": [
    "그럼 로그인한 횟수가 가장 많은 날짜가 언젠지 찾아보자"
   ]
  },
  {
   "cell_type": "markdown",
   "metadata": {},
   "source": [
    "## Q6. 어느 날짜에 로그인을 가장 많이 했을까?"
   ]
  },
  {
   "cell_type": "code",
   "execution_count": 18,
   "metadata": {},
   "outputs": [
    {
     "name": "stdout",
     "output_type": "stream",
     "text": [
      "+-----------+-----+\n",
      "|       Date|count|\n",
      "+-----------+-----+\n",
      "|29/Jan/2018|  560|\n",
      "|30/Nov/2017|  207|\n",
      "|29/Nov/2017|   71|\n",
      "|17/Nov/2017|   65|\n",
      "|13/Nov/2017|   60|\n",
      "|09/Nov/2017|   60|\n",
      "|16/Nov/2017|   58|\n",
      "|01/Dec/2017|   50|\n",
      "|12/Nov/2017|   44|\n",
      "|16/Dec/2017|   42|\n",
      "|08/Nov/2017|   40|\n",
      "|14/Dec/2017|   36|\n",
      "|14/Nov/2017|   36|\n",
      "|02/Dec/2017|   32|\n",
      "|23/Nov/2017|   32|\n",
      "|15/Nov/2017|   28|\n",
      "|19/Nov/2017|   27|\n",
      "|26/Nov/2017|   26|\n",
      "|11/Nov/2017|   26|\n",
      "|13/Dec/2017|   25|\n",
      "+-----------+-----+\n",
      "only showing top 20 rows\n",
      "\n"
     ]
    }
   ],
   "source": [
    "login.groupBy(\"Date\").count().sort(desc(\"count\")).show()"
   ]
  },
  {
   "cell_type": "markdown",
   "metadata": {},
   "source": [
    "## Q7. 29/Jan/2018의 20시와 30/Nov/2017의 20시 살펴보기"
   ]
  },
  {
   "cell_type": "code",
   "execution_count": 19,
   "metadata": {},
   "outputs": [
    {
     "name": "stdout",
     "output_type": "stream",
     "text": [
      "+-----------+----+-----+\n",
      "|       Date|Hour|count|\n",
      "+-----------+----+-----+\n",
      "|29/Jan/2018|  20|  560|\n",
      "|09/Nov/2017|  20|    6|\n",
      "|26/Nov/2017|  20|    6|\n",
      "|16/Nov/2017|  20|    6|\n",
      "|14/Dec/2017|  20|    6|\n",
      "|19/Nov/2017|  20|    6|\n",
      "|30/Nov/2017|  20|    6|\n",
      "|12/Nov/2017|  20|    4|\n",
      "|21/Nov/2017|  20|    2|\n",
      "|01/Dec/2017|  20|    2|\n",
      "|17/Jan/2018|  20|    2|\n",
      "|08/Nov/2017|  20|    2|\n",
      "|13/Dec/2017|  20|    2|\n",
      "|16/Dec/2017|  20|    1|\n",
      "|02/Dec/2017|  20|    1|\n",
      "|17/Dec/2017|  20|    1|\n",
      "|17/Nov/2017|  20|    1|\n",
      "|19/Dec/2017|  20|    1|\n",
      "+-----------+----+-----+\n",
      "\n"
     ]
    }
   ],
   "source": [
    "login.where(login['Hour']=='20').groupBy(\"Date\", \"Hour\")\\\n",
    ".count().sort(desc(\"count\")).show()"
   ]
  },
  {
   "cell_type": "markdown",
   "metadata": {},
   "source": [
    "## 번외. 30/Nov/2017 살펴보기"
   ]
  },
  {
   "cell_type": "code",
   "execution_count": 20,
   "metadata": {},
   "outputs": [
    {
     "name": "stdout",
     "output_type": "stream",
     "text": [
      "+-----------+----+-----+\n",
      "|       Date|Hour|count|\n",
      "+-----------+----+-----+\n",
      "|30/Nov/2017|  12|   39|\n",
      "|30/Nov/2017|  15|   32|\n",
      "|30/Nov/2017|  16|   30|\n",
      "|30/Nov/2017|  17|   23|\n",
      "|30/Nov/2017|  14|   21|\n",
      "|30/Nov/2017|  09|   13|\n",
      "|30/Nov/2017|  13|   10|\n",
      "|30/Nov/2017|  08|    9|\n",
      "|30/Nov/2017|  07|    9|\n",
      "|30/Nov/2017|  19|    6|\n",
      "|30/Nov/2017|  20|    6|\n",
      "|30/Nov/2017|  18|    3|\n",
      "|30/Nov/2017|  06|    2|\n",
      "|30/Nov/2017|  21|    2|\n",
      "|30/Nov/2017|  11|    1|\n",
      "|30/Nov/2017|  03|    1|\n",
      "+-----------+----+-----+\n",
      "\n"
     ]
    }
   ],
   "source": [
    "login.where(login['Date'] == '30/Nov/2017').groupBy(\"Date\", \"Hour\")\\\n",
    ".count().sort(desc(\"count\")).show()"
   ]
  }
 ],
 "metadata": {
  "kernelspec": {
   "display_name": "Python 3",
   "language": "python",
   "name": "python3"
  },
  "language_info": {
   "codemirror_mode": {
    "name": "ipython",
    "version": 3
   },
   "file_extension": ".py",
   "mimetype": "text/x-python",
   "name": "python",
   "nbconvert_exporter": "python",
   "pygments_lexer": "ipython3",
   "version": "3.6.5"
  }
 },
 "nbformat": 4,
 "nbformat_minor": 2
}
